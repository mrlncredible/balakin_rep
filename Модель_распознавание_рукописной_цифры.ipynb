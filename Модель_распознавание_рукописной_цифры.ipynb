{
  "nbformat": 4,
  "nbformat_minor": 0,
  "metadata": {
    "colab": {
      "name": "Модель распознавание рукописной цифры",
      "provenance": [],
      "collapsed_sections": [
        "qLX9aj3eFCPB",
        "TR6ua7t7FEzn",
        "H4WWjjxnF3qn"
      ],
      "include_colab_link": true
    },
    "kernelspec": {
      "name": "python3",
      "display_name": "Python 3"
    },
    "accelerator": "GPU"
  },
  "cells": [
    {
      "cell_type": "markdown",
      "metadata": {
        "id": "view-in-github",
        "colab_type": "text"
      },
      "source": [
        "<a href=\"https://colab.research.google.com/github/mrlncredible/balakin_rep/blob/main/%D0%9C%D0%BE%D0%B4%D0%B5%D0%BB%D1%8C_%D1%80%D0%B0%D1%81%D0%BF%D0%BE%D0%B7%D0%BD%D0%B0%D0%B2%D0%B0%D0%BD%D0%B8%D0%B5_%D1%80%D1%83%D0%BA%D0%BE%D0%BF%D0%B8%D1%81%D0%BD%D0%BE%D0%B9_%D1%86%D0%B8%D1%84%D1%80%D1%8B.ipynb\" target=\"_parent\"><img src=\"https://colab.research.google.com/assets/colab-badge.svg\" alt=\"Open In Colab\"/></a>"
      ]
    },
    {
      "cell_type": "markdown",
      "metadata": {
        "id": "vBvuSQtdCyPq"
      },
      "source": [
        "Чтобы запускать и редактировать код, сохраните копию этого ноутбука себе (File->Save a copy in Drive...). Свою копию вы сможете изменять и запускать."
      ]
    },
    {
      "cell_type": "markdown",
      "metadata": {
        "id": "nqZpzs2nBs63"
      },
      "source": [
        "# Модель распознавания рукописной цифры"
      ]
    },
    {
      "cell_type": "markdown",
      "metadata": {
        "id": "qLX9aj3eFCPB"
      },
      "source": [
        "## Подготовка данных"
      ]
    },
    {
      "cell_type": "code",
      "metadata": {
        "id": "co9Q1s42SciM"
      },
      "source": [
        "from tensorflow.keras.datasets import mnist #Библиотека с базой Mnist\n",
        "from tensorflow.keras.models import Sequential # Подлючаем класс создания модели Sequential\n",
        "from tensorflow.keras.layers import Dense, Dropout # Подключаем класс Dense - полносвязный слой\n",
        "from tensorflow.keras.optimizers import Adam # Подключаем оптимизатор Adam\n",
        "from tensorflow.keras import utils #Утилиты для to_categorical\n",
        "from tensorflow.keras.preprocessing import image #Для отрисовки изображения\n",
        "import numpy as np # Подключаем библиотеку numpy\n",
        "import pylab # Модуль для построения графиков\n",
        "from mpl_toolkits.mplot3d import Axes3D # Модуль для трехмерной графики\n",
        "from google.colab import files #Для загрузки своей картинки\n",
        "import matplotlib.pyplot as plt #Отрисовка изображений\n",
        "from PIL import Image, ImageOps #Отрисовка изображений\n",
        "#Отрисовывать изображения в ноутбуке, а не в консоль или файл\n",
        "%matplotlib inline "
      ],
      "execution_count": null,
      "outputs": []
    },
    {
      "cell_type": "code",
      "metadata": {
        "id": "xnYVjcnJC4TY"
      },
      "source": [
        "(x_train_org, y_train_org), (x_test_org, y_test_org) = mnist.load_data() #Загрузка данных Mnist"
      ],
      "execution_count": null,
      "outputs": []
    },
    {
      "cell_type": "code",
      "metadata": {
        "id": "StxOw0C6EQQd",
        "colab": {
          "base_uri": "https://localhost:8080/"
        },
        "outputId": "9eff790a-e614-49c8-b496-4f517e98db59"
      },
      "source": [
        "#Меняем формат входных картинок с 28х28 на 784х1\n",
        "x_train = x_train_org.reshape(60000, 784)\n",
        "print(x_train_org.shape)\n",
        "print(x_train.shape)"
      ],
      "execution_count": null,
      "outputs": [
        {
          "output_type": "stream",
          "name": "stdout",
          "text": [
            "(60000, 28, 28)\n",
            "(60000, 784)\n"
          ]
        }
      ]
    },
    {
      "cell_type": "code",
      "metadata": {
        "id": "R5cW-u8eEXBN"
      },
      "source": [
        "#Нормализуем входные картинки\n",
        "x_train = x_train.astype('float32') # преобразовываем x_train в тип float (цифры с плавающей точкой)\n",
        "x_train = x_train / 255 # делим на 255, чтобы диапазон был от 0 до 1"
      ],
      "execution_count": null,
      "outputs": []
    },
    {
      "cell_type": "code",
      "source": [
        "# Преобразуем ответы в формат one_hot_encoding\n",
        "y_train = utils.to_categorical(y_train_org, 10)"
      ],
      "metadata": {
        "id": "DiWi4d3O90Ro"
      },
      "execution_count": null,
      "outputs": []
    },
    {
      "cell_type": "code",
      "source": [
        "#Выводим размер y_train\n",
        "#60 тысяч примеров, каждый размера 10 (так как 10 классов)\n",
        "print(y_train.shape)"
      ],
      "metadata": {
        "colab": {
          "base_uri": "https://localhost:8080/"
        },
        "id": "YF5x84JK99Vf",
        "outputId": "6973af26-3572-4ec7-fba5-58bc265ca942"
      },
      "execution_count": null,
      "outputs": [
        {
          "output_type": "stream",
          "name": "stdout",
          "text": [
            "(60000, 10)\n"
          ]
        }
      ]
    },
    {
      "cell_type": "code",
      "source": [
        "print(y_train[0]) #Выводим пример одного выходного вектора"
      ],
      "metadata": {
        "colab": {
          "base_uri": "https://localhost:8080/"
        },
        "id": "AAzyfXax9-Wl",
        "outputId": "4c3a7eb3-097b-4a0f-bf43-8e43dbffd91f"
      },
      "execution_count": null,
      "outputs": [
        {
          "output_type": "stream",
          "name": "stdout",
          "text": [
            "[0. 0. 0. 0. 0. 1. 0. 0. 0. 0.]\n"
          ]
        }
      ]
    },
    {
      "cell_type": "markdown",
      "metadata": {
        "id": "TR6ua7t7FEzn"
      },
      "source": [
        "## Создание нейронной сети\n"
      ]
    },
    {
      "cell_type": "code",
      "metadata": {
        "id": "odi8yVyxE-w5"
      },
      "source": [
        "model = Sequential() # Создаём сеть прямого распространения\n",
        "model.add(Dense(800, input_dim=784, activation=\"relu\")) # Добавляем полносвязный слой на 800 нейронов  \n",
        "model.add(Dense(400, activation=\"sigmoid\"))\n",
        "model.add(Dense(10, activation=\"softmax\")) # Добавляем полносвязный слой на 10 нейронов с softmax-активацией"
      ],
      "execution_count": null,
      "outputs": []
    },
    {
      "cell_type": "code",
      "metadata": {
        "id": "6EMUkxTqFkc1",
        "colab": {
          "base_uri": "https://localhost:8080/"
        },
        "outputId": "2cfab706-fc6c-4e3e-a3db-b1e71b8fbd51"
      },
      "source": [
        "model.compile(loss=\"categorical_crossentropy\", optimizer=\"adam\", metrics=[\"accuracy\"]) # Компилируем модель\n",
        "print(model.summary()) #Вывод структуры модели"
      ],
      "execution_count": null,
      "outputs": [
        {
          "output_type": "stream",
          "name": "stdout",
          "text": [
            "Model: \"sequential_63\"\n",
            "_________________________________________________________________\n",
            " Layer (type)                Output Shape              Param #   \n",
            "=================================================================\n",
            " dense_233 (Dense)           (None, 800)               628000    \n",
            "                                                                 \n",
            " dense_234 (Dense)           (None, 400)               320400    \n",
            "                                                                 \n",
            " dense_235 (Dense)           (None, 10)                4010      \n",
            "                                                                 \n",
            "=================================================================\n",
            "Total params: 952,410\n",
            "Trainable params: 952,410\n",
            "Non-trainable params: 0\n",
            "_________________________________________________________________\n",
            "None\n"
          ]
        }
      ]
    },
    {
      "cell_type": "markdown",
      "metadata": {
        "id": "H4WWjjxnF3qn"
      },
      "source": [
        "## Обучение нейронной сети"
      ]
    },
    {
      "cell_type": "code",
      "metadata": {
        "id": "tzArU3n3F6Lo",
        "colab": {
          "base_uri": "https://localhost:8080/"
        },
        "outputId": "0c0d06da-5c3b-4418-9fb0-7b1b846b2663"
      },
      "source": [
        "#fit - функция обучения нейронки\n",
        "#x_train, y_train - обучающая выборка, входные и выходные данные\n",
        "#batch_size - размер батча, количество примеров, которое обрабатывает нейронка перед одним изменением весов\n",
        "#epochs - количество эпох, когда нейронка обучается на всех примерах выборки\n",
        "#verbose - 0 - не визуализировать ход обучения, 1 - визуализировать\n",
        "model.fit(x_train, y_train, batch_size=128, epochs=5, verbose=1)"
      ],
      "execution_count": null,
      "outputs": [
        {
          "output_type": "stream",
          "name": "stdout",
          "text": [
            "Epoch 1/5\n",
            "469/469 [==============================] - 3s 5ms/step - loss: 0.2678 - accuracy: 0.9217\n",
            "Epoch 2/5\n",
            "469/469 [==============================] - 3s 7ms/step - loss: 0.0911 - accuracy: 0.9723\n",
            "Epoch 3/5\n",
            "469/469 [==============================] - 4s 7ms/step - loss: 0.0569 - accuracy: 0.9826\n",
            "Epoch 4/5\n",
            "469/469 [==============================] - 3s 7ms/step - loss: 0.0393 - accuracy: 0.9882\n",
            "Epoch 5/5\n",
            "469/469 [==============================] - 2s 5ms/step - loss: 0.0263 - accuracy: 0.9922\n"
          ]
        },
        {
          "output_type": "execute_result",
          "data": {
            "text/plain": [
              "<keras.callbacks.History at 0x7f8041f2c050>"
            ]
          },
          "metadata": {},
          "execution_count": 1249
        }
      ]
    },
    {
      "cell_type": "code",
      "metadata": {
        "id": "nmxH0W_QSOIX"
      },
      "source": [
        "model.save_weights('model.h5')\n",
        "model.load_weights('model.h5')"
      ],
      "execution_count": null,
      "outputs": []
    },
    {
      "cell_type": "markdown",
      "metadata": {
        "id": "ExUOoWQOGvw6"
      },
      "source": [
        "## Распознавание рукописных цифр"
      ]
    },
    {
      "cell_type": "code",
      "source": [
        "files.upload() #Загружаем фото в Colaboratory"
      ],
      "metadata": {
        "id": "RqZvaFVnnohY"
      },
      "execution_count": null,
      "outputs": []
    },
    {
      "cell_type": "code",
      "source": [
        "img = image.load_img(path = '4.jpg', target_size=(28, 28), color_mode = 'grayscale') #Загружаем картинку в переменную\n",
        "print(img)"
      ],
      "metadata": {
        "colab": {
          "base_uri": "https://localhost:8080/"
        },
        "id": "H9ISP9pvYhGd",
        "outputId": "c6c10858-35fc-4aae-e6c4-0fad54dd3d6b"
      },
      "execution_count": null,
      "outputs": [
        {
          "output_type": "stream",
          "name": "stdout",
          "text": [
            "<PIL.Image.Image image mode=L size=28x28 at 0x7F8042249950>\n"
          ]
        }
      ]
    },
    {
      "cell_type": "code",
      "source": [
        "img = image.img_to_array(img) #Преобразуем картинку в numpy-массив\n",
        "img_inverted = 1 - img[:] #Выполняем инверсию цвета в массива\n",
        "print(img_inverted.shape)"
      ],
      "metadata": {
        "id": "RbblqGxhpp63",
        "colab": {
          "base_uri": "https://localhost:8080/"
        },
        "outputId": "c5d2414f-6f7d-4d24-d735-a7d94a3f2eee"
      },
      "execution_count": null,
      "outputs": [
        {
          "output_type": "stream",
          "name": "stdout",
          "text": [
            "(28, 28, 1)\n"
          ]
        }
      ]
    },
    {
      "cell_type": "code",
      "source": [
        "img_inverted = img_inverted.reshape(28,28)\n",
        "print(img_inverted.shape)"
      ],
      "metadata": {
        "colab": {
          "base_uri": "https://localhost:8080/"
        },
        "id": "HvM0mG7eXWat",
        "outputId": "b800f411-3e2a-4156-9fd8-679b937d2822"
      },
      "execution_count": null,
      "outputs": [
        {
          "output_type": "stream",
          "name": "stdout",
          "text": [
            "(28, 28)\n"
          ]
        }
      ]
    },
    {
      "cell_type": "code",
      "source": [
        "plt.imshow(img_inverted) #Отрисовка картинки\n",
        "plt.show()"
      ],
      "metadata": {
        "colab": {
          "base_uri": "https://localhost:8080/",
          "height": 265
        },
        "id": "6WAge_tQXVP0",
        "outputId": "a0dc26d4-5e8c-4a16-b8fc-77ff793f0fb5"
      },
      "execution_count": null,
      "outputs": [
        {
          "output_type": "display_data",
          "data": {
            "image/png": "[encoded data removed]",
            "text/plain": [
              "<Figure size 432x288 with 1 Axes>"
            ]
          },
          "metadata": {
            "needs_background": "light"
          }
        }
      ]
    },
    {
      "cell_type": "code",
      "source": [
        "renew_img = img_inverted.reshape(1,784) #Выполняем reshape массива \n",
        "print(img.shape)\n",
        "print(renew_img.shape)"
      ],
      "metadata": {
        "colab": {
          "base_uri": "https://localhost:8080/"
        },
        "id": "U3DR3PMo4Ywl",
        "outputId": "1ea36645-e78a-4732-bc16-644b57754959"
      },
      "execution_count": null,
      "outputs": [
        {
          "output_type": "stream",
          "name": "stdout",
          "text": [
            "(28, 28, 1)\n",
            "(1, 784)\n"
          ]
        }
      ]
    },
    {
      "cell_type": "code",
      "source": [
        "#Нормализация входной картинки\n",
        "renew_img = renew_img.astype('float32') #Преобразуем в renew_img в тип float\n",
        "renew_img = renew_img/255 #Делим на 255 чтобы диапазон был от 0 до 1"
      ],
      "metadata": {
        "id": "05s9AKD04dJ-"
      },
      "execution_count": null,
      "outputs": []
    },
    {
      "cell_type": "code",
      "source": [
        "prediction = model.predict(renew_img) #Распознаём пример\n",
        "print('Результат:', prediction)"
      ],
      "metadata": {
        "colab": {
          "base_uri": "https://localhost:8080/"
        },
        "id": "l58WMs1q6zoQ",
        "outputId": "2870f0e7-a9f1-4570-8d70-ab049f3c3018"
      },
      "execution_count": null,
      "outputs": [
        {
          "output_type": "stream",
          "name": "stdout",
          "text": [
            "Результат: [[1.3508067e-06 2.4298122e-02 2.4445492e-06 9.0762069e-07 6.9785291e-01\n",
            "  4.2416502e-04 8.4972550e-07 1.9306016e-01 8.0158948e-08 8.4358945e-02]]\n"
          ]
        }
      ]
    },
    {
      "cell_type": "code",
      "source": [
        "sum(prediction[0])"
      ],
      "metadata": {
        "colab": {
          "base_uri": "https://localhost:8080/"
        },
        "id": "bdeb_K6v7aB6",
        "outputId": "dbc93f83-f326-4f49-858f-b975b567d12f"
      },
      "execution_count": null,
      "outputs": [
        {
          "output_type": "execute_result",
          "data": {
            "text/plain": [
              "0.9999999347675228"
            ]
          },
          "metadata": {},
          "execution_count": 1238
        }
      ]
    },
    {
      "cell_type": "code",
      "source": [
        "pred = np.argmax(prediction) # Получаем индекс самого большого элемента (это итоговая цифра, которую распознала сеть)\n",
        "print('НС распознала число', pred)"
      ],
      "metadata": {
        "id": "b13fafSCX7-H",
        "colab": {
          "base_uri": "https://localhost:8080/"
        },
        "outputId": "3dbed7e4-a602-4597-e0a9-c96e1ca628df"
      },
      "execution_count": null,
      "outputs": [
        {
          "output_type": "stream",
          "name": "stdout",
          "text": [
            "НС распознала число 4\n"
          ]
        }
      ]
    },
    {
      "cell_type": "markdown",
      "source": [
        "Распознаёт 4 и 7.\n",
        "Пробовал менять размер банча и количество эпох. Ещё поэкспериментировал со слоями и функциями активации(получалось ещё хуже). В итоге изенил только количетво эпох и функцию активации второго слоя (relu сменил на sigmoid)."
      ],
      "metadata": {
        "id": "v1PM-NDGAxqo"
      }
    }
  ]
}
