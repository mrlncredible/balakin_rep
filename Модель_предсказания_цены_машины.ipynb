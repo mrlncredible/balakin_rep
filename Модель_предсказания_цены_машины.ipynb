{
  "cells": [
    {
      "cell_type": "markdown",
      "metadata": {
        "id": "view-in-github",
        "colab_type": "text"
      },
      "source": [
        "<a href=\"https://colab.research.google.com/github/mrlncredible/balakin_rep/blob/main/%D0%9C%D0%BE%D0%B4%D0%B5%D0%BB%D1%8C_%D0%BF%D1%80%D0%B5%D0%B4%D1%81%D0%BA%D0%B0%D0%B7%D0%B0%D0%BD%D0%B8%D1%8F_%D1%86%D0%B5%D0%BD%D1%8B_%D0%BC%D0%B0%D1%88%D0%B8%D0%BD%D1%8B.ipynb\" target=\"_parent\"><img src=\"https://colab.research.google.com/assets/colab-badge.svg\" alt=\"Open In Colab\"/></a>"
      ]
    },
    {
      "cell_type": "markdown",
      "metadata": {
        "id": "BVAhutY8GimR"
      },
      "source": [
        "# Подготовка данных"
      ]
    },
    {
      "cell_type": "code",
      "execution_count": 3,
      "metadata": {
        "id": "WI_hH570_jjr"
      },
      "outputs": [],
      "source": [
        "from tensorflow.keras.models import Sequential # НС прямого распространения\n",
        "from tensorflow.keras.layers import Dense, Activation, Dropout, BatchNormalization # Основные слои\n",
        "from tensorflow.keras import utils # Утилиты для to_categorical\n",
        "from tensorflow.keras.preprocessing import image # Для отрисовки изображения\n",
        "from tensorflow.keras.optimizers import Adam, Adadelta # Алгоритмы оптимизации, для настройки скорости обучения\n",
        "import numpy as np # Библиотека работы с массивами\n",
        "import matplotlib.pyplot as plt # Отрисовка изображений\n",
        "from PIL import Image # Отрисовка изображений\n",
        "import pandas as pd # Библиотека pandas\n",
        "from google.colab import files # Импорт файлов\n",
        "from sklearn.preprocessing import LabelEncoder, StandardScaler # Функции для нормализации данных\n",
        "from sklearn import preprocessing # Пакет предварительной обработки данных\n",
        "from sklearn.model_selection import train_test_split # функция разделения на обучающую и проверочную/тестовую выборку\n",
        "\n",
        "# Отрисовывать изображения в ноутбуке, а не в консоль или файл\n",
        "%matplotlib inline\n"
      ]
    },
    {
      "cell_type": "markdown",
      "metadata": {
        "id": "P-rteo1XG5Qr"
      },
      "source": [
        "## Загрузка файла"
      ]
    },
    {
      "cell_type": "code",
      "execution_count": 4,
      "metadata": {
        "colab": {
          "base_uri": "https://localhost:8080/",
          "height": 0,
          "resources": {
            "http://localhost:8080/nbextensions/google.colab/files.js": {
              "data": "Ly8gQ29weXJpZ2h0IDIwMTcgR29vZ2xlIExMQwovLwovLyBMaWNlbnNlZCB1bmRlciB0aGUgQXBhY2hlIExpY2Vuc2UsIFZlcnNpb24gMi4wICh0aGUgIkxpY2Vuc2UiKTsKLy8geW91IG1heSBub3QgdXNlIHRoaXMgZmlsZSBleGNlcHQgaW4gY29tcGxpYW5jZSB3aXRoIHRoZSBMaWNlbnNlLgovLyBZb3UgbWF5IG9idGFpbiBhIGNvcHkgb2YgdGhlIExpY2Vuc2UgYXQKLy8KLy8gICAgICBodHRwOi8vd3d3LmFwYWNoZS5vcmcvbGljZW5zZXMvTElDRU5TRS0yLjAKLy8KLy8gVW5sZXNzIHJlcXVpcmVkIGJ5IGFwcGxpY2FibGUgbGF3IG9yIGFncmVlZCB0byBpbiB3cml0aW5nLCBzb2Z0d2FyZQovLyBkaXN0cmlidXRlZCB1bmRlciB0aGUgTGljZW5zZSBpcyBkaXN0cmlidXRlZCBvbiBhbiAiQVMgSVMiIEJBU0lTLAovLyBXSVRIT1VUIFdBUlJBTlRJRVMgT1IgQ09ORElUSU9OUyBPRiBBTlkgS0lORCwgZWl0aGVyIGV4cHJlc3Mgb3IgaW1wbGllZC4KLy8gU2VlIHRoZSBMaWNlbnNlIGZvciB0aGUgc3BlY2lmaWMgbGFuZ3VhZ2UgZ292ZXJuaW5nIHBlcm1pc3Npb25zIGFuZAovLyBsaW1pdGF0aW9ucyB1bmRlciB0aGUgTGljZW5zZS4KCi8qKgogKiBAZmlsZW92ZXJ2aWV3IEhlbHBlcnMgZm9yIGdvb2dsZS5jb2xhYiBQeXRob24gbW9kdWxlLgogKi8KKGZ1bmN0aW9uKHNjb3BlKSB7CmZ1bmN0aW9uIHNwYW4odGV4dCwgc3R5bGVBdHRyaWJ1dGVzID0ge30pIHsKICBjb25zdCBlbGVtZW50ID0gZG9jdW1lbnQuY3JlYXRlRWxlbWVudCgnc3BhbicpOwogIGVsZW1lbnQudGV4dENvbnRlbnQgPSB0ZXh0OwogIGZvciAoY29uc3Qga2V5IG9mIE9iamVjdC5rZXlzKHN0eWxlQXR0cmlidXRlcykpIHsKICAgIGVsZW1lbnQuc3R5bGVba2V5XSA9IHN0eWxlQXR0cmlidXRlc1trZXldOwogIH0KICByZXR1cm4gZWxlbWVudDsKfQoKLy8gTWF4IG51bWJlciBvZiBieXRlcyB3aGljaCB3aWxsIGJlIHVwbG9hZGVkIGF0IGEgdGltZS4KY29uc3QgTUFYX1BBWUxPQURfU0laRSA9IDEwMCAqIDEwMjQ7CgpmdW5jdGlvbiBfdXBsb2FkRmlsZXMoaW5wdXRJZCwgb3V0cHV0SWQpIHsKICBjb25zdCBzdGVwcyA9IHVwbG9hZEZpbGVzU3RlcChpbnB1dElkLCBvdXRwdXRJZCk7CiAgY29uc3Qgb3V0cHV0RWxlbWVudCA9IGRvY3VtZW50LmdldEVsZW1lbnRCeUlkKG91dHB1dElkKTsKICAvLyBDYWNoZSBzdGVwcyBvbiB0aGUgb3V0cHV0RWxlbWVudCB0byBtYWtlIGl0IGF2YWlsYWJsZSBmb3IgdGhlIG5leHQgY2FsbAogIC8vIHRvIHVwbG9hZEZpbGVzQ29udGludWUgZnJvbSBQeXRob24uCiAgb3V0cHV0RWxlbWVudC5zdGVwcyA9IHN0ZXBzOwoKICByZXR1cm4gX3VwbG9hZEZpbGVzQ29udGludWUob3V0cHV0SWQpOwp9CgovLyBUaGlzIGlzIHJvdWdobHkgYW4gYXN5bmMgZ2VuZXJhdG9yIChub3Qgc3VwcG9ydGVkIGluIHRoZSBicm93c2VyIHlldCksCi8vIHdoZXJlIHRoZXJlIGFyZSBtdWx0aXBsZSBhc3luY2hyb25vdXMgc3RlcHMgYW5kIHRoZSBQeXRob24gc2lkZSBpcyBnb2luZwovLyB0byBwb2xsIGZvciBjb21wbGV0aW9uIG9mIGVhY2ggc3RlcC4KLy8gVGhpcyB1c2VzIGEgUHJvbWlzZSB0byBibG9jayB0aGUgcHl0aG9uIHNpZGUgb24gY29tcGxldGlvbiBvZiBlYWNoIHN0ZXAsCi8vIHRoZW4gcGFzc2VzIHRoZSByZXN1bHQgb2YgdGhlIHByZXZpb3VzIHN0ZXAgYXMgdGhlIGlucHV0IHRvIHRoZSBuZXh0IHN0ZXAuCmZ1bmN0aW9uIF91cGxvYWRGaWxlc0NvbnRpbnVlKG91dHB1dElkKSB7CiAgY29uc3Qgb3V0cHV0RWxlbWVudCA9IGRvY3VtZW50LmdldEVsZW1lbnRCeUlkKG91dHB1dElkKTsKICBjb25zdCBzdGVwcyA9IG91dHB1dEVsZW1lbnQuc3RlcHM7CgogIGNvbnN0IG5leHQgPSBzdGVwcy5uZXh0KG91dHB1dEVsZW1lbnQubGFzdFByb21pc2VWYWx1ZSk7CiAgcmV0dXJuIFByb21pc2UucmVzb2x2ZShuZXh0LnZhbHVlLnByb21pc2UpLnRoZW4oKHZhbHVlKSA9PiB7CiAgICAvLyBDYWNoZSB0aGUgbGFzdCBwcm9taXNlIHZhbHVlIHRvIG1ha2UgaXQgYXZhaWxhYmxlIHRvIHRoZSBuZXh0CiAgICAvLyBzdGVwIG9mIHRoZSBnZW5lcmF0b3IuCiAgICBvdXRwdXRFbGVtZW50Lmxhc3RQcm9taXNlVmFsdWUgPSB2YWx1ZTsKICAgIHJldHVybiBuZXh0LnZhbHVlLnJlc3BvbnNlOwogIH0pOwp9CgovKioKICogR2VuZXJhdG9yIGZ1bmN0aW9uIHdoaWNoIGlzIGNhbGxlZCBiZXR3ZWVuIGVhY2ggYXN5bmMgc3RlcCBvZiB0aGUgdXBsb2FkCiAqIHByb2Nlc3MuCiAqIEBwYXJhbSB7c3RyaW5nfSBpbnB1dElkIEVsZW1lbnQgSUQgb2YgdGhlIGlucHV0IGZpbGUgcGlja2VyIGVsZW1lbnQuCiAqIEBwYXJhbSB7c3RyaW5nfSBvdXRwdXRJZCBFbGVtZW50IElEIG9mIHRoZSBvdXRwdXQgZGlzcGxheS4KICogQHJldHVybiB7IUl0ZXJhYmxlPCFPYmplY3Q+fSBJdGVyYWJsZSBvZiBuZXh0IHN0ZXBzLgogKi8KZnVuY3Rpb24qIHVwbG9hZEZpbGVzU3RlcChpbnB1dElkLCBvdXRwdXRJZCkgewogIGNvbnN0IGlucHV0RWxlbWVudCA9IGRvY3VtZW50LmdldEVsZW1lbnRCeUlkKGlucHV0SWQpOwogIGlucHV0RWxlbWVudC5kaXNhYmxlZCA9IGZhbHNlOwoKICBjb25zdCBvdXRwdXRFbGVtZW50ID0gZG9jdW1lbnQuZ2V0RWxlbWVudEJ5SWQob3V0cHV0SWQpOwogIG91dHB1dEVsZW1lbnQuaW5uZXJIVE1MID0gJyc7CgogIGNvbnN0IHBpY2tlZFByb21pc2UgPSBuZXcgUHJvbWlzZSgocmVzb2x2ZSkgPT4gewogICAgaW5wdXRFbGVtZW50LmFkZEV2ZW50TGlzdGVuZXIoJ2NoYW5nZScsIChlKSA9PiB7CiAgICAgIHJlc29sdmUoZS50YXJnZXQuZmlsZXMpOwogICAgfSk7CiAgfSk7CgogIGNvbnN0IGNhbmNlbCA9IGRvY3VtZW50LmNyZWF0ZUVsZW1lbnQoJ2J1dHRvbicpOwogIGlucHV0RWxlbWVudC5wYXJlbnRFbGVtZW50LmFwcGVuZENoaWxkKGNhbmNlbCk7CiAgY2FuY2VsLnRleHRDb250ZW50ID0gJ0NhbmNlbCB1cGxvYWQnOwogIGNvbnN0IGNhbmNlbFByb21pc2UgPSBuZXcgUHJvbWlzZSgocmVzb2x2ZSkgPT4gewogICAgY2FuY2VsLm9uY2xpY2sgPSAoKSA9PiB7CiAgICAgIHJlc29sdmUobnVsbCk7CiAgICB9OwogIH0pOwoKICAvLyBXYWl0IGZvciB0aGUgdXNlciB0byBwaWNrIHRoZSBmaWxlcy4KICBjb25zdCBmaWxlcyA9IHlpZWxkIHsKICAgIHByb21pc2U6IFByb21pc2UucmFjZShbcGlja2VkUHJvbWlzZSwgY2FuY2VsUHJvbWlzZV0pLAogICAgcmVzcG9uc2U6IHsKICAgICAgYWN0aW9uOiAnc3RhcnRpbmcnLAogICAgfQogIH07CgogIGNhbmNlbC5yZW1vdmUoKTsKCiAgLy8gRGlzYWJsZSB0aGUgaW5wdXQgZWxlbWVudCBzaW5jZSBmdXJ0aGVyIHBpY2tzIGFyZSBub3QgYWxsb3dlZC4KICBpbnB1dEVsZW1lbnQuZGlzYWJsZWQgPSB0cnVlOwoKICBpZiAoIWZpbGVzKSB7CiAgICByZXR1cm4gewogICAgICByZXNwb25zZTogewogICAgICAgIGFjdGlvbjogJ2NvbXBsZXRlJywKICAgICAgfQogICAgfTsKICB9CgogIGZvciAoY29uc3QgZmlsZSBvZiBmaWxlcykgewogICAgY29uc3QgbGkgPSBkb2N1bWVudC5jcmVhdGVFbGVtZW50KCdsaScpOwogICAgbGkuYXBwZW5kKHNwYW4oZmlsZS5uYW1lLCB7Zm9udFdlaWdodDogJ2JvbGQnfSkpOwogICAgbGkuYXBwZW5kKHNwYW4oCiAgICAgICAgYCgke2ZpbGUudHlwZSB8fCAnbi9hJ30pIC0gJHtmaWxlLnNpemV9IGJ5dGVzLCBgICsKICAgICAgICBgbGFzdCBtb2RpZmllZDogJHsKICAgICAgICAgICAgZmlsZS5sYXN0TW9kaWZpZWREYXRlID8gZmlsZS5sYXN0TW9kaWZpZWREYXRlLnRvTG9jYWxlRGF0ZVN0cmluZygpIDoKICAgICAgICAgICAgICAgICAgICAgICAgICAgICAgICAgICAgJ24vYSd9IC0gYCkpOwogICAgY29uc3QgcGVyY2VudCA9IHNwYW4oJzAlIGRvbmUnKTsKICAgIGxpLmFwcGVuZENoaWxkKHBlcmNlbnQpOwoKICAgIG91dHB1dEVsZW1lbnQuYXBwZW5kQ2hpbGQobGkpOwoKICAgIGNvbnN0IGZpbGVEYXRhUHJvbWlzZSA9IG5ldyBQcm9taXNlKChyZXNvbHZlKSA9PiB7CiAgICAgIGNvbnN0IHJlYWRlciA9IG5ldyBGaWxlUmVhZGVyKCk7CiAgICAgIHJlYWRlci5vbmxvYWQgPSAoZSkgPT4gewogICAgICAgIHJlc29sdmUoZS50YXJnZXQucmVzdWx0KTsKICAgICAgfTsKICAgICAgcmVhZGVyLnJlYWRBc0FycmF5QnVmZmVyKGZpbGUpOwogICAgfSk7CiAgICAvLyBXYWl0IGZvciB0aGUgZGF0YSB0byBiZSByZWFkeS4KICAgIGxldCBmaWxlRGF0YSA9IHlpZWxkIHsKICAgICAgcHJvbWlzZTogZmlsZURhdGFQcm9taXNlLAogICAgICByZXNwb25zZTogewogICAgICAgIGFjdGlvbjogJ2NvbnRpbnVlJywKICAgICAgfQogICAgfTsKCiAgICAvLyBVc2UgYSBjaHVua2VkIHNlbmRpbmcgdG8gYXZvaWQgbWVzc2FnZSBzaXplIGxpbWl0cy4gU2VlIGIvNjIxMTU2NjAuCiAgICBsZXQgcG9zaXRpb24gPSAwOwogICAgZG8gewogICAgICBjb25zdCBsZW5ndGggPSBNYXRoLm1pbihmaWxlRGF0YS5ieXRlTGVuZ3RoIC0gcG9zaXRpb24sIE1BWF9QQVlMT0FEX1NJWkUpOwogICAgICBjb25zdCBjaHVuayA9IG5ldyBVaW50OEFycmF5KGZpbGVEYXRhLCBwb3NpdGlvbiwgbGVuZ3RoKTsKICAgICAgcG9zaXRpb24gKz0gbGVuZ3RoOwoKICAgICAgY29uc3QgYmFzZTY0ID0gYnRvYShTdHJpbmcuZnJvbUNoYXJDb2RlLmFwcGx5KG51bGwsIGNodW5rKSk7CiAgICAgIHlpZWxkIHsKICAgICAgICByZXNwb25zZTogewogICAgICAgICAgYWN0aW9uOiAnYXBwZW5kJywKICAgICAgICAgIGZpbGU6IGZpbGUubmFtZSwKICAgICAgICAgIGRhdGE6IGJhc2U2NCwKICAgICAgICB9LAogICAgICB9OwoKICAgICAgbGV0IHBlcmNlbnREb25lID0gZmlsZURhdGEuYnl0ZUxlbmd0aCA9PT0gMCA/CiAgICAgICAgICAxMDAgOgogICAgICAgICAgTWF0aC5yb3VuZCgocG9zaXRpb24gLyBmaWxlRGF0YS5ieXRlTGVuZ3RoKSAqIDEwMCk7CiAgICAgIHBlcmNlbnQudGV4dENvbnRlbnQgPSBgJHtwZXJjZW50RG9uZX0lIGRvbmVgOwoKICAgIH0gd2hpbGUgKHBvc2l0aW9uIDwgZmlsZURhdGEuYnl0ZUxlbmd0aCk7CiAgfQoKICAvLyBBbGwgZG9uZS4KICB5aWVsZCB7CiAgICByZXNwb25zZTogewogICAgICBhY3Rpb246ICdjb21wbGV0ZScsCiAgICB9CiAgfTsKfQoKc2NvcGUuZ29vZ2xlID0gc2NvcGUuZ29vZ2xlIHx8IHt9OwpzY29wZS5nb29nbGUuY29sYWIgPSBzY29wZS5nb29nbGUuY29sYWIgfHwge307CnNjb3BlLmdvb2dsZS5jb2xhYi5fZmlsZXMgPSB7CiAgX3VwbG9hZEZpbGVzLAogIF91cGxvYWRGaWxlc0NvbnRpbnVlLAp9Owp9KShzZWxmKTsK",
              "headers": [
                [
                  "content-type",
                  "application/javascript"
                ]
              ],
              "ok": true,
              "status": 200,
              "status_text": ""
            }
          }
        },
        "id": "x5H4KuKLvTjn",
        "outputId": "7efc2389-11d2-49ec-e54f-ac8db52e0021"
      },
      "outputs": [
        {
          "output_type": "display_data",
          "data": {
            "text/html": [
              "\n",
              "     <input type=\"file\" id=\"files-f195521b-387e-4f6d-ad99-5565b811146f\" name=\"files[]\" multiple disabled\n",
              "        style=\"border:none\" />\n",
              "     <output id=\"result-f195521b-387e-4f6d-ad99-5565b811146f\">\n",
              "      Upload widget is only available when the cell has been executed in the\n",
              "      current browser session. Please rerun this cell to enable.\n",
              "      </output>\n",
              "      <script src=\"/nbextensions/google.colab/files.js\"></script> "
            ],
            "text/plain": [
              "<IPython.core.display.HTML object>"
            ]
          },
          "metadata": {}
        },
        {
          "output_type": "stream",
          "name": "stdout",
          "text": [
            "Saving cars_new.csv to cars_new.csv\n",
            "cars_new.csv  sample_data\n"
          ]
        }
      ],
      "source": [
        "# Загружаем файлы\n",
        "files.upload()\n",
        "!ls # Выводим содержимое корневой папки"
      ]
    },
    {
      "cell_type": "markdown",
      "metadata": {
        "id": "KNV95PxDHTbr"
      },
      "source": [
        "## Загрузка данных"
      ]
    },
    {
      "cell_type": "code",
      "execution_count": 5,
      "metadata": {
        "colab": {
          "base_uri": "https://localhost:8080/",
          "height": 206
        },
        "id": "rCj_CCyAHXz-",
        "outputId": "9a0c66fb-722d-43c4-c4e6-9435e2e7de0f"
      },
      "outputs": [
        {
          "output_type": "execute_result",
          "data": {
            "text/html": [
              "\n",
              "  <div id=\"df-a312bf0b-15bf-4e63-bfe5-350af094bc7c\">\n",
              "    <div class=\"colab-df-container\">\n",
              "      <div>\n",
              "<style scoped>\n",
              "    .dataframe tbody tr th:only-of-type {\n",
              "        vertical-align: middle;\n",
              "    }\n",
              "\n",
              "    .dataframe tbody tr th {\n",
              "        vertical-align: top;\n",
              "    }\n",
              "\n",
              "    .dataframe thead th {\n",
              "        text-align: right;\n",
              "    }\n",
              "</style>\n",
              "<table border=\"1\" class=\"dataframe\">\n",
              "  <thead>\n",
              "    <tr style=\"text-align: right;\">\n",
              "      <th></th>\n",
              "      <th>mark</th>\n",
              "      <th>model</th>\n",
              "      <th>price</th>\n",
              "      <th>year</th>\n",
              "      <th>mileage</th>\n",
              "      <th>body</th>\n",
              "      <th>kpp</th>\n",
              "      <th>fuel</th>\n",
              "      <th>volume</th>\n",
              "      <th>power</th>\n",
              "    </tr>\n",
              "  </thead>\n",
              "  <tbody>\n",
              "    <tr>\n",
              "      <th>0</th>\n",
              "      <td>kia</td>\n",
              "      <td>cerato</td>\n",
              "      <td>996000</td>\n",
              "      <td>2018</td>\n",
              "      <td>28000</td>\n",
              "      <td>седан</td>\n",
              "      <td>автомат</td>\n",
              "      <td>бензин</td>\n",
              "      <td>2.0</td>\n",
              "      <td>150.0</td>\n",
              "    </tr>\n",
              "    <tr>\n",
              "      <th>1</th>\n",
              "      <td>daewoo</td>\n",
              "      <td>nexia 1 поколение [2-й рестайлинг]</td>\n",
              "      <td>140200</td>\n",
              "      <td>2012</td>\n",
              "      <td>60500</td>\n",
              "      <td>седан</td>\n",
              "      <td>механика</td>\n",
              "      <td>бензин</td>\n",
              "      <td>1.5</td>\n",
              "      <td>80.0</td>\n",
              "    </tr>\n",
              "    <tr>\n",
              "      <th>2</th>\n",
              "      <td>suzuki</td>\n",
              "      <td>jimny 3 поколение [рестайлинг]</td>\n",
              "      <td>750000</td>\n",
              "      <td>2011</td>\n",
              "      <td>29000</td>\n",
              "      <td>внедорожник</td>\n",
              "      <td>автомат</td>\n",
              "      <td>бензин</td>\n",
              "      <td>1.3</td>\n",
              "      <td>85.0</td>\n",
              "    </tr>\n",
              "    <tr>\n",
              "      <th>3</th>\n",
              "      <td>bmw</td>\n",
              "      <td>x1 18 e84 [рестайлинг]</td>\n",
              "      <td>970000</td>\n",
              "      <td>2014</td>\n",
              "      <td>49500</td>\n",
              "      <td>кроссовер</td>\n",
              "      <td>автомат</td>\n",
              "      <td>бензин</td>\n",
              "      <td>2.0</td>\n",
              "      <td>150.0</td>\n",
              "    </tr>\n",
              "    <tr>\n",
              "      <th>4</th>\n",
              "      <td>chevrolet</td>\n",
              "      <td>lacetti 1 поколение</td>\n",
              "      <td>205000</td>\n",
              "      <td>2007</td>\n",
              "      <td>151445</td>\n",
              "      <td>седан</td>\n",
              "      <td>механика</td>\n",
              "      <td>бензин</td>\n",
              "      <td>1.4</td>\n",
              "      <td>95.0</td>\n",
              "    </tr>\n",
              "  </tbody>\n",
              "</table>\n",
              "</div>\n",
              "      <button class=\"colab-df-convert\" onclick=\"convertToInteractive('df-a312bf0b-15bf-4e63-bfe5-350af094bc7c')\"\n",
              "              title=\"Convert this dataframe to an interactive table.\"\n",
              "              style=\"display:none;\">\n",
              "        \n",
              "  <svg xmlns=\"http://www.w3.org/2000/svg\" height=\"24px\"viewBox=\"0 0 24 24\"\n",
              "       width=\"24px\">\n",
              "    <path d=\"M0 0h24v24H0V0z\" fill=\"none\"/>\n",
              "    <path d=\"M18.56 5.44l.94 2.06.94-2.06 2.06-.94-2.06-.94-.94-2.06-.94 2.06-2.06.94zm-11 1L8.5 8.5l.94-2.06 2.06-.94-2.06-.94L8.5 2.5l-.94 2.06-2.06.94zm10 10l.94 2.06.94-2.06 2.06-.94-2.06-.94-.94-2.06-.94 2.06-2.06.94z\"/><path d=\"M17.41 7.96l-1.37-1.37c-.4-.4-.92-.59-1.43-.59-.52 0-1.04.2-1.43.59L10.3 9.45l-7.72 7.72c-.78.78-.78 2.05 0 2.83L4 21.41c.39.39.9.59 1.41.59.51 0 1.02-.2 1.41-.59l7.78-7.78 2.81-2.81c.8-.78.8-2.07 0-2.86zM5.41 20L4 18.59l7.72-7.72 1.47 1.35L5.41 20z\"/>\n",
              "  </svg>\n",
              "      </button>\n",
              "      \n",
              "  <style>\n",
              "    .colab-df-container {\n",
              "      display:flex;\n",
              "      flex-wrap:wrap;\n",
              "      gap: 12px;\n",
              "    }\n",
              "\n",
              "    .colab-df-convert {\n",
              "      background-color: #E8F0FE;\n",
              "      border: none;\n",
              "      border-radius: 50%;\n",
              "      cursor: pointer;\n",
              "      display: none;\n",
              "      fill: #1967D2;\n",
              "      height: 32px;\n",
              "      padding: 0 0 0 0;\n",
              "      width: 32px;\n",
              "    }\n",
              "\n",
              "    .colab-df-convert:hover {\n",
              "      background-color: #E2EBFA;\n",
              "      box-shadow: 0px 1px 2px rgba(60, 64, 67, 0.3), 0px 1px 3px 1px rgba(60, 64, 67, 0.15);\n",
              "      fill: #174EA6;\n",
              "    }\n",
              "\n",
              "    [theme=dark] .colab-df-convert {\n",
              "      background-color: #3B4455;\n",
              "      fill: #D2E3FC;\n",
              "    }\n",
              "\n",
              "    [theme=dark] .colab-df-convert:hover {\n",
              "      background-color: #434B5C;\n",
              "      box-shadow: 0px 1px 3px 1px rgba(0, 0, 0, 0.15);\n",
              "      filter: drop-shadow(0px 1px 2px rgba(0, 0, 0, 0.3));\n",
              "      fill: #FFFFFF;\n",
              "    }\n",
              "  </style>\n",
              "\n",
              "      <script>\n",
              "        const buttonEl =\n",
              "          document.querySelector('#df-a312bf0b-15bf-4e63-bfe5-350af094bc7c button.colab-df-convert');\n",
              "        buttonEl.style.display =\n",
              "          google.colab.kernel.accessAllowed ? 'block' : 'none';\n",
              "\n",
              "        async function convertToInteractive(key) {\n",
              "          const element = document.querySelector('#df-a312bf0b-15bf-4e63-bfe5-350af094bc7c');\n",
              "          const dataTable =\n",
              "            await google.colab.kernel.invokeFunction('convertToInteractive',\n",
              "                                                     [key], {});\n",
              "          if (!dataTable) return;\n",
              "\n",
              "          const docLinkHtml = 'Like what you see? Visit the ' +\n",
              "            '<a target=\"_blank\" href=https://colab.research.google.com/notebooks/data_table.ipynb>data table notebook</a>'\n",
              "            + ' to learn more about interactive tables.';\n",
              "          element.innerHTML = '';\n",
              "          dataTable['output_type'] = 'display_data';\n",
              "          await google.colab.output.renderOutput(dataTable, element);\n",
              "          const docLink = document.createElement('div');\n",
              "          docLink.innerHTML = docLinkHtml;\n",
              "          element.appendChild(docLink);\n",
              "        }\n",
              "      </script>\n",
              "    </div>\n",
              "  </div>\n",
              "  "
            ],
            "text/plain": [
              "        mark                               model   price  ...    fuel  volume  power\n",
              "0        kia                              cerato  996000  ...  бензин     2.0  150.0\n",
              "1     daewoo  nexia 1 поколение [2-й рестайлинг]  140200  ...  бензин     1.5   80.0\n",
              "2     suzuki      jimny 3 поколение [рестайлинг]  750000  ...  бензин     1.3   85.0\n",
              "3        bmw              x1 18 e84 [рестайлинг]  970000  ...  бензин     2.0  150.0\n",
              "4  chevrolet                 lacetti 1 поколение  205000  ...  бензин     1.4   95.0\n",
              "\n",
              "[5 rows x 10 columns]"
            ]
          },
          "metadata": {},
          "execution_count": 5
        }
      ],
      "source": [
        "# Считываем csv с помощью pandas\n",
        "cars = pd.read_csv('cars_new.csv', sep=',')\n",
        "cars[:5] # Выводим первые 5 машин "
      ]
    },
    {
      "cell_type": "code",
      "execution_count": 6,
      "metadata": {
        "colab": {
          "base_uri": "https://localhost:8080/"
        },
        "id": "lrPgHFO_Hm_n",
        "outputId": "8fed8c7a-5b4f-401e-c998-f59bde0f6fbd"
      },
      "outputs": [
        {
          "output_type": "stream",
          "name": "stdout",
          "text": [
            "(70119, 10)\n"
          ]
        }
      ],
      "source": [
        "print(cars.values.shape)"
      ]
    },
    {
      "cell_type": "code",
      "execution_count": 7,
      "metadata": {
        "id": "unIB7K30HrSV"
      },
      "outputs": [],
      "source": [
        "# Создаём словарь поле - его индекс\n",
        "def create_dict(s):\n",
        "  ret = {}                          # Создаём пустой словарь\n",
        "  for _id, name in enumerate(s):    # Проходим по всем парам - id и название\n",
        "    ret.update({name: _id})         # Добавляем в словарь\n",
        "  return ret\n",
        "\n",
        "# Функция преобразования в one hot encoding\n",
        "def to_ohe(value, d):\n",
        "  arr = [0] * len(d)\n",
        "  arr[d[value]] = 1\n",
        "  return arr"
      ]
    },
    {
      "cell_type": "code",
      "execution_count": 8,
      "metadata": {
        "colab": {
          "base_uri": "https://localhost:8080/"
        },
        "id": "aAieB26QHrZE",
        "outputId": "56e38226-04b1-4180-e82d-63d6984a5741"
      },
      "outputs": [
        {
          "output_type": "stream",
          "name": "stderr",
          "text": [
            "/usr/local/lib/python3.7/dist-packages/ipykernel_launcher.py:9: DeprecationWarning: `np.float` is a deprecated alias for the builtin `float`. To silence this warning, use `float` by itself. Doing this will not modify any behavior and is safe. If you specifically wanted the numpy scalar type, use `np.float64` here.\n",
            "Deprecated in NumPy 1.20; for more details and guidance: https://numpy.org/devdocs/release/1.20.0-notes.html#deprecations\n",
            "  if __name__ == '__main__':\n"
          ]
        }
      ],
      "source": [
        "# Создаём словари по всем текстовым колонкам\n",
        "marks_dict = create_dict(set(cars['mark']))\n",
        "models_dict = create_dict(set(cars['model']))\n",
        "bodies_dict = create_dict(set(cars['body']))\n",
        "kpps_dict = create_dict(set(cars['kpp']))\n",
        "fuels_dict = create_dict(set(cars['fuel']))\n",
        "\n",
        "# Запоминаем цены\n",
        "prices = np.array(cars['price'], dtype=np.float)\n",
        "\n",
        "# Запоминаем числовые параметры\n",
        "# и нормируем\n",
        "years = preprocessing.scale(cars['year'])\n",
        "mileages = preprocessing.scale(cars['mileage'])\n",
        "volumes = preprocessing.scale(cars['volume'])\n",
        "powers = preprocessing.scale(cars['power'])"
      ]
    },
    {
      "cell_type": "code",
      "execution_count": 9,
      "metadata": {
        "colab": {
          "base_uri": "https://localhost:8080/"
        },
        "id": "NcdTR7LxHxX4",
        "outputId": "9b669755-3510-4ec9-fe95-53436f58a519"
      },
      "outputs": [
        {
          "output_type": "stream",
          "name": "stdout",
          "text": [
            "{'ford': 0, 'daewoo': 1, 'opel': 2, 'mazda': 3, 'renault': 4, 'subaru': 5, 'toyota': 6, 'skoda': 7, 'peugeot': 8, 'audi': 9, 'honda': 10, 'bmw': 11, 'mitsubishi': 12, 'nissan': 13, 'suzuki': 14, 'hyundai': 15, 'mercedes-benz': 16, 'kia': 17, 'volkswagen': 18, 'chevrolet': 19, 'chery': 20}\n"
          ]
        }
      ],
      "source": [
        "print(marks_dict)"
      ]
    },
    {
      "cell_type": "code",
      "execution_count": 10,
      "metadata": {
        "colab": {
          "base_uri": "https://localhost:8080/"
        },
        "id": "IhjzRpp5Hx8V",
        "outputId": "6aa3a6e0-9983-48b1-b6c9-97cbd26e6533"
      },
      "outputs": [
        {
          "output_type": "execute_result",
          "data": {
            "text/plain": [
              "7.129646144783743e-15"
            ]
          },
          "metadata": {},
          "execution_count": 10
        }
      ],
      "source": [
        "years.mean()"
      ]
    },
    {
      "cell_type": "code",
      "execution_count": 11,
      "metadata": {
        "colab": {
          "base_uri": "https://localhost:8080/"
        },
        "id": "T_IsLLHRH06Y",
        "outputId": "4c6967f4-70e9-4c21-aacd-629f6a052323"
      },
      "outputs": [
        {
          "output_type": "execute_result",
          "data": {
            "text/plain": [
              "1.0"
            ]
          },
          "metadata": {},
          "execution_count": 11
        }
      ],
      "source": [
        "years.std()"
      ]
    },
    {
      "cell_type": "code",
      "execution_count": 12,
      "metadata": {
        "colab": {
          "base_uri": "https://localhost:8080/"
        },
        "id": "wP6xhMq3H3GH",
        "outputId": "a9d9ee12-757f-4f18-b381-13d0e352d944"
      },
      "outputs": [
        {
          "output_type": "stream",
          "name": "stdout",
          "text": [
            "[ 0.22905575 -0.95630346 -0.87163494 ...  0.22905575 -0.75309902\n",
            "  2.34576862]\n"
          ]
        }
      ],
      "source": [
        "print(powers)"
      ]
    },
    {
      "cell_type": "code",
      "execution_count": 13,
      "metadata": {
        "colab": {
          "base_uri": "https://localhost:8080/"
        },
        "id": "HQ8x7vJwH5v0",
        "outputId": "f02c7ffe-5144-475a-e8d6-407ce0cab7f0"
      },
      "outputs": [
        {
          "output_type": "stream",
          "name": "stderr",
          "text": [
            "/usr/local/lib/python3.7/dist-packages/ipykernel_launcher.py:19: DeprecationWarning: `np.float` is a deprecated alias for the builtin `float`. To silence this warning, use `float` by itself. Doing this will not modify any behavior and is safe. If you specifically wanted the numpy scalar type, use `np.float64` here.\n",
            "Deprecated in NumPy 1.20; for more details and guidance: https://numpy.org/devdocs/release/1.20.0-notes.html#deprecations\n",
            "/usr/local/lib/python3.7/dist-packages/ipykernel_launcher.py:20: DeprecationWarning: `np.float` is a deprecated alias for the builtin `float`. To silence this warning, use `float` by itself. Doing this will not modify any behavior and is safe. If you specifically wanted the numpy scalar type, use `np.float64` here.\n",
            "Deprecated in NumPy 1.20; for more details and guidance: https://numpy.org/devdocs/release/1.20.0-notes.html#deprecations\n"
          ]
        }
      ],
      "source": [
        "# Создаём пустую обучающую выборку\n",
        "x_train = []\n",
        "y_train = []\n",
        "\n",
        "# Проходам по всем машинам\n",
        "for _id, car in enumerate(np.array(cars)):\n",
        "  # В y_train добавляем цену\n",
        "  y_train.append(prices[_id])\n",
        "  \n",
        "  # В x_train объединяем все параметры\n",
        "  # Категорийные параметры добавляем в виде ohe\n",
        "  # Числовые параметры добавляем напрямую\n",
        "  x_tr = to_ohe(car[0], marks_dict) + \\\n",
        "        to_ohe(car[1], models_dict) + \\\n",
        "        to_ohe(car[5], bodies_dict) + \\\n",
        "        to_ohe(car[6], kpps_dict) + \\\n",
        "        to_ohe(car[7], fuels_dict) + \\\n",
        "        [years[_id]] + \\\n",
        "        [mileages[_id]] + \\\n",
        "        [volumes[_id]] + \\\n",
        "        [powers[_id]]\n",
        "  \n",
        "  # Добавляем текущую строку в общий x_train\n",
        "  x_train.append(x_tr)\n",
        "\n",
        "# Превращаем лист в numpy.array\n",
        "x_train = np.array(x_train, dtype=np.float)\n",
        "y_train = np.array(y_train, dtype=np.float)"
      ]
    },
    {
      "cell_type": "code",
      "execution_count": 14,
      "metadata": {
        "colab": {
          "base_uri": "https://localhost:8080/"
        },
        "id": "wxl3lIbDI30D",
        "outputId": "cf6124d1-8c8e-4576-f010-d7f82f3395f9"
      },
      "outputs": [
        {
          "output_type": "stream",
          "name": "stdout",
          "text": [
            "(70119, 3208)\n",
            "(70119,)\n"
          ]
        }
      ],
      "source": [
        "# Выводим размеры выборок\n",
        "print(x_train.shape)\n",
        "print(y_train.shape)"
      ]
    },
    {
      "cell_type": "code",
      "execution_count": 15,
      "metadata": {
        "colab": {
          "base_uri": "https://localhost:8080/"
        },
        "id": "nNePlPUUI6qE",
        "outputId": "c2c0b58f-519a-44ef-ecea-9a593fe288e0"
      },
      "outputs": [
        {
          "output_type": "stream",
          "name": "stdout",
          "text": [
            "[0. 0. 0. 0. 0. 0. 0. 0. 0. 0. 0. 0. 0. 0. 0. 0. 0. 1. 0. 0.]\n",
            "[ 0.          0.          0.          0.          0.          1.\n",
            "  0.          0.          0.          1.          0.          0.\n",
            "  1.          0.          0.          0.          1.5200145  -1.40018212\n",
            "  0.12288486  0.22905575]\n"
          ]
        }
      ],
      "source": [
        "# Выводим один x_train\n",
        "print(x_train[0,:20])\n",
        "print(x_train[0,-20:])"
      ]
    },
    {
      "cell_type": "code",
      "execution_count": 16,
      "metadata": {
        "colab": {
          "base_uri": "https://localhost:8080/"
        },
        "id": "ZIq0wwTEI_c2",
        "outputId": "86700ab7-8db7-4a76-9f4f-af20494cd177"
      },
      "outputs": [
        {
          "output_type": "stream",
          "name": "stdout",
          "text": [
            "[ 996000.  140200.  750000.  970000.  205000.  985000.  589000.  500000.\n",
            " 1320000.  270000.]\n"
          ]
        }
      ],
      "source": [
        "# Выводим y_train\n",
        "print(y_train[:10])"
      ]
    },
    {
      "cell_type": "code",
      "execution_count": 17,
      "metadata": {
        "id": "_UQpKYTOJq33"
      },
      "outputs": [],
      "source": [
        "# Нормализуем y_train\n",
        "y_scaler = StandardScaler()\n",
        "y_train_scaled = y_scaler.fit_transform(y_train.reshape(-1,1)).flatten()\n",
        "\n",
        "# y_train.reshape(-1,1) добавляет одну размерность\n",
        "# Это нужно потому, что y_scaler.fit_transform\n",
        "# Требует двумерны вектор, массив примеров, которые надо нормализовать\n",
        "# Он не умеет работать с одним примеров\n",
        "# Поэтому мы делаем массив из одного примера\n",
        "# На выходе он так же выдаёт массив примеров\n",
        "# Но нам нужен только первый пример\n",
        "# Поэтому мы делаем flatten() - уменьшение размерности"
      ]
    },
    {
      "cell_type": "code",
      "execution_count": 18,
      "metadata": {
        "colab": {
          "base_uri": "https://localhost:8080/"
        },
        "id": "mmMtaW7ZJvEA",
        "outputId": "3f19a782-3a22-47de-b751-5fc7ac3c8580"
      },
      "outputs": [
        {
          "output_type": "execute_result",
          "data": {
            "text/plain": [
              "(70119,)"
            ]
          },
          "metadata": {},
          "execution_count": 18
        }
      ],
      "source": [
        "y_train_scaled.shape"
      ]
    },
    {
      "cell_type": "code",
      "execution_count": 19,
      "metadata": {
        "colab": {
          "base_uri": "https://localhost:8080/"
        },
        "id": "zsfu-BoRJv8m",
        "outputId": "1978dbcd-6590-4067-db51-3d330468eb44"
      },
      "outputs": [
        {
          "output_type": "stream",
          "name": "stdout",
          "text": [
            "[ 996000.  140200.  750000.  970000.  205000.  985000.  589000.  500000.\n",
            " 1320000.  270000.]\n",
            "[ 0.75082432 -0.62135434  0.3563911   0.70913625 -0.51745486  0.73318706\n",
            "  0.09824578 -0.04445567  1.27032173 -0.4132347 ]\n"
          ]
        }
      ],
      "source": [
        "# Выводим базовый и нормированный y_train\n",
        "print(y_train[:10])\n",
        "print(y_train_scaled[:10])"
      ]
    },
    {
      "cell_type": "markdown",
      "metadata": {
        "id": "AglmIwg_UOf7"
      },
      "source": [
        "# Cоздание НС"
      ]
    },
    {
      "cell_type": "markdown",
      "metadata": {
        "id": "KEhtIX2KKTXd"
      },
      "source": [
        "## Создание тестовой и проверочной выборки"
      ]
    },
    {
      "cell_type": "code",
      "execution_count": 20,
      "metadata": {
        "colab": {
          "base_uri": "https://localhost:8080/"
        },
        "id": "-AmM4z2HJ5xf",
        "outputId": "9fcbf236-f8b7-44c4-ac44-5bae184de47f"
      },
      "outputs": [
        {
          "output_type": "stream",
          "name": "stdout",
          "text": [
            "(56095, 3208)\n",
            "(14024, 3208)\n",
            "(56095,)\n",
            "(14024,)\n"
          ]
        }
      ],
      "source": [
        "# test_size=0.2 - будет выделено 20% от тренировочных данных \n",
        "# x_train - данные для обучения\n",
        "# x_test - данные для проверки\n",
        "# y_train - правильные ответы для обучения\n",
        "# y_test - правильные ответы для проверки\n",
        "x_train, x_test, y_train_scaled, y_test_scaled = train_test_split(x_train, y_train_scaled, test_size=0.2)    \n",
        "print (x_train.shape)\n",
        "print (x_test.shape)\n",
        "print (y_train_scaled.shape)\n",
        "print (y_test_scaled.shape)"
      ]
    },
    {
      "cell_type": "code",
      "execution_count": 42,
      "metadata": {
        "id": "SlShTwsnUS5A"
      },
      "outputs": [],
      "source": [
        "# Функция пересоздаёт пустую сеть\n",
        "def createModel():\n",
        "    model_ula = Sequential()\n",
        "    model_ula.add(Dense(3300, input_dim=3208, activation = 'relu', input_shape = x_train.shape[1:]))\n",
        "    model_ula.add(Dense(1600, activation = 'relu'))\n",
        "    model_ula.add(Dense(1, activation = 'linear'))\n",
        "    model_ula.compile(optimizer = 'adam', loss = 'mse')\n",
        "\n",
        "    return model_ula # Возвращаем созданную сеть"
      ]
    },
    {
      "cell_type": "code",
      "execution_count": 43,
      "metadata": {
        "colab": {
          "base_uri": "https://localhost:8080/"
        },
        "id": "wQpp457Dahoi",
        "outputId": "baaf649a-34ea-4d2c-c7e9-65d61d0704a1"
      },
      "outputs": [
        {
          "output_type": "stream",
          "name": "stdout",
          "text": [
            "Epoch 1/20\n",
            "5/5 [==============================] - 66s 13s/step - loss: 0.5440 - val_loss: 0.3385\n",
            "Epoch 2/20\n",
            "5/5 [==============================] - 64s 13s/step - loss: 0.2357 - val_loss: 0.2569\n",
            "Epoch 3/20\n",
            "5/5 [==============================] - 65s 13s/step - loss: 0.1640 - val_loss: 0.2306\n",
            "Epoch 4/20\n",
            "5/5 [==============================] - 65s 13s/step - loss: 0.1306 - val_loss: 0.2172\n",
            "Epoch 5/20\n",
            "5/5 [==============================] - 66s 13s/step - loss: 0.1084 - val_loss: 0.2035\n",
            "Epoch 6/20\n",
            "5/5 [==============================] - 66s 13s/step - loss: 0.0875 - val_loss: 0.1993\n",
            "Epoch 7/20\n",
            "5/5 [==============================] - 65s 13s/step - loss: 0.0759 - val_loss: 0.1918\n",
            "Epoch 8/20\n",
            "5/5 [==============================] - 66s 13s/step - loss: 0.0624 - val_loss: 0.2030\n",
            "Epoch 9/20\n",
            "5/5 [==============================] - 63s 13s/step - loss: 0.0560 - val_loss: 0.2009\n",
            "Epoch 10/20\n",
            "5/5 [==============================] - 63s 13s/step - loss: 0.0501 - val_loss: 0.1925\n",
            "Epoch 11/20\n",
            "5/5 [==============================] - 64s 13s/step - loss: 0.0460 - val_loss: 0.1938\n",
            "Epoch 12/20\n",
            "5/5 [==============================] - 64s 13s/step - loss: 0.0407 - val_loss: 0.2031\n",
            "Epoch 13/20\n",
            "5/5 [==============================] - 64s 13s/step - loss: 0.0421 - val_loss: 0.1966\n",
            "Epoch 14/20\n",
            "5/5 [==============================] - 63s 13s/step - loss: 0.0395 - val_loss: 0.2012\n",
            "Epoch 15/20\n",
            "5/5 [==============================] - 66s 13s/step - loss: 0.0377 - val_loss: 0.2004\n",
            "Epoch 16/20\n",
            "5/5 [==============================] - 63s 13s/step - loss: 0.0347 - val_loss: 0.1938\n",
            "Epoch 17/20\n",
            "5/5 [==============================] - 63s 13s/step - loss: 0.0321 - val_loss: 0.1936\n",
            "Epoch 18/20\n",
            "5/5 [==============================] - 61s 12s/step - loss: 0.0302 - val_loss: 0.1924\n",
            "Epoch 19/20\n",
            "5/5 [==============================] - 61s 12s/step - loss: 0.0308 - val_loss: 0.1964\n",
            "Epoch 20/20\n",
            "5/5 [==============================] - 62s 12s/step - loss: 0.0295 - val_loss: 0.1940\n"
          ]
        }
      ],
      "source": [
        "# Создаём пустую сеть при помощи функции createModel()\n",
        "model_ula = createModel()\n",
        "history = model_ula.fit(x_train, y_train_scaled, epochs = 20, batch_size = 10000, validation_split = 0.2, verbose=1)\n"
      ]
    },
    {
      "cell_type": "code",
      "execution_count": 44,
      "metadata": {
        "id": "mboYBh88SPz3"
      },
      "outputs": [],
      "source": [
        "predict = model_ula.predict(x_test)\n",
        "predict_inverse = y_scaler.inverse_transform(predict).flatten()"
      ]
    },
    {
      "cell_type": "code",
      "source": [
        "print('Среднее значение цены:', np.average(predict_inverse))"
      ],
      "metadata": {
        "colab": {
          "base_uri": "https://localhost:8080/"
        },
        "id": "E9NfBcZw5n_1",
        "outputId": "c830cb73-9161-4e9f-8bec-06eb0b25e47f"
      },
      "execution_count": 45,
      "outputs": [
        {
          "output_type": "stream",
          "name": "stdout",
          "text": [
            "Среднее значение цены: 510991.7\n"
          ]
        }
      ]
    },
    {
      "cell_type": "markdown",
      "metadata": {
        "id": "iOxMHVu_V6Fz"
      },
      "source": [
        "## Проверка качеста на тестовом наборе данных"
      ]
    },
    {
      "cell_type": "code",
      "execution_count": 48,
      "metadata": {
        "colab": {
          "base_uri": "https://localhost:8080/"
        },
        "id": "5sV4Xw73V5NN",
        "outputId": "defca1f5-36fd-4fd7-acd0-9a9513c2b1c8"
      },
      "outputs": [
        {
          "output_type": "stream",
          "name": "stdout",
          "text": [
            "439/439 [==============================] - 22s 51ms/step - loss: 0.0786\n",
            "0.07857929915189743\n",
            "Средняя ошибка на тестовых данных:  0.0786\n"
          ]
        }
      ],
      "source": [
        "# Вычисляем результаты сети на тестовом наборе\n",
        "scores = model_ula.evaluate(x_test, y_test_scaled, verbose=1)\n",
        "\n",
        "# scores - loss сети на тестовой выборке\n",
        "print(scores)\n",
        "print(\"Средняя ошибка на тестовых данных: \", round(scores, 4))"
      ]
    },
    {
      "cell_type": "markdown",
      "metadata": {
        "id": "7D1xdybWWGiy"
      },
      "source": [
        "## Визуализация качества обучения "
      ]
    },
    {
      "cell_type": "code",
      "execution_count": 49,
      "metadata": {
        "colab": {
          "base_uri": "https://localhost:8080/"
        },
        "id": "AWQ0BiKDWV6d",
        "outputId": "2c47369d-65d5-4ead-d983-0b7c58048b1e"
      },
      "outputs": [
        {
          "output_type": "stream",
          "name": "stdout",
          "text": [
            "dict_keys(['loss', 'val_loss'])\n"
          ]
        }
      ],
      "source": [
        "# Ключи в структуре history\n",
        "print(history.history.keys())"
      ]
    },
    {
      "cell_type": "markdown",
      "metadata": {
        "id": "sKzHMBi6507f"
      },
      "source": [
        "Печатаем значения ошибки на обучающем наборе данных"
      ]
    },
    {
      "cell_type": "code",
      "execution_count": 50,
      "metadata": {
        "colab": {
          "base_uri": "https://localhost:8080/"
        },
        "id": "5LIOJULboAcG",
        "outputId": "1d68dae0-f9de-4cd7-9f4d-e3cca6d73820"
      },
      "outputs": [
        {
          "output_type": "execute_result",
          "data": {
            "text/plain": [
              "[0.5440013408660889,\n",
              " 0.23568807542324066,\n",
              " 0.16404011845588684,\n",
              " 0.1305953413248062,\n",
              " 0.1084442138671875,\n",
              " 0.08750160783529282,\n",
              " 0.07587458193302155,\n",
              " 0.06238582730293274,\n",
              " 0.05595465376973152,\n",
              " 0.050125546753406525,\n",
              " 0.04597952961921692,\n",
              " 0.04068398475646973,\n",
              " 0.042050786316394806,\n",
              " 0.03947705402970314,\n",
              " 0.03766714408993721,\n",
              " 0.03472186252474785,\n",
              " 0.03205488622188568,\n",
              " 0.030221939086914062,\n",
              " 0.03075087070465088,\n",
              " 0.029463430866599083]"
            ]
          },
          "metadata": {},
          "execution_count": 50
        }
      ],
      "source": [
        "# Значения loss на обучающей выборке по эпохам\n",
        "loss = history.history['loss']\n",
        "history.history['loss']"
      ]
    },
    {
      "cell_type": "code",
      "source": [
        "print('Среднее значение ошибки на обучающей выборки', round(np.average(loss), 4))\n"
      ],
      "metadata": {
        "colab": {
          "base_uri": "https://localhost:8080/"
        },
        "id": "qQwwtB146q-f",
        "outputId": "f7fc58af-2970-4ae1-d6b8-3f2546926cce"
      },
      "execution_count": 51,
      "outputs": [
        {
          "output_type": "stream",
          "name": "stdout",
          "text": [
            "Среднее значение ошибки на обучающей выборки 0.0939\n"
          ]
        }
      ]
    },
    {
      "cell_type": "markdown",
      "metadata": {
        "id": "LzcHkPZAoZMD"
      },
      "source": [
        "Печатаем долю правильных ответов на проверочном наборе данных"
      ]
    },
    {
      "cell_type": "code",
      "execution_count": 52,
      "metadata": {
        "colab": {
          "base_uri": "https://localhost:8080/"
        },
        "id": "1xSR8C-mogV6",
        "outputId": "ddb3d9b4-c272-4ec4-deac-7f050fdd03d4"
      },
      "outputs": [
        {
          "output_type": "stream",
          "name": "stdout",
          "text": [
            "Эпоха: 0 значение ошибки: 33.9%\n",
            "Эпоха: 1 значение ошибки: 25.7%\n",
            "Эпоха: 2 значение ошибки: 23.1%\n",
            "Эпоха: 3 значение ошибки: 21.7%\n",
            "Эпоха: 4 значение ошибки: 20.3%\n",
            "Эпоха: 5 значение ошибки: 19.9%\n",
            "Эпоха: 6 значение ошибки: 19.2%\n",
            "Эпоха: 7 значение ошибки: 20.3%\n",
            "Эпоха: 8 значение ошибки: 20.1%\n",
            "Эпоха: 9 значение ошибки: 19.3%\n",
            "Эпоха: 10 значение ошибки: 19.4%\n",
            "Эпоха: 11 значение ошибки: 20.3%\n",
            "Эпоха: 12 значение ошибки: 19.7%\n",
            "Эпоха: 13 значение ошибки: 20.1%\n",
            "Эпоха: 14 значение ошибки: 20.0%\n",
            "Эпоха: 15 значение ошибки: 19.4%\n",
            "Эпоха: 16 значение ошибки: 19.4%\n",
            "Эпоха: 17 значение ошибки: 19.2%\n",
            "Эпоха: 18 значение ошибки: 19.6%\n",
            "Эпоха: 19 значение ошибки: 19.4%\n"
          ]
        }
      ],
      "source": [
        "# Значения точности распознавания на проверочной выборке по эпохам\n",
        "val_loss = history.history['val_loss']\n",
        "for i in range(len(val_loss)):\n",
        "  print(\"Эпоха: \", i, \" значение ошибки: \", round(100*val_loss[i], 1), \"%\", sep=\"\")\n",
        "  # round - округление\n",
        "  # sep=\"\" - убрать стандартный разделитель пробел при выводе строки"
      ]
    },
    {
      "cell_type": "code",
      "source": [
        "print('Средний процент ошибки на проверочной выборки:', round(100*np.average(val_loss), 1), '%')"
      ],
      "metadata": {
        "colab": {
          "base_uri": "https://localhost:8080/"
        },
        "id": "w2HaP_iD74WH",
        "outputId": "aeb96654-baa6-41ed-e282-64581d46c4cc"
      },
      "execution_count": 53,
      "outputs": [
        {
          "output_type": "stream",
          "name": "stdout",
          "text": [
            "Средний процент ошибки на проверочной выборки: 21.0 %\n"
          ]
        }
      ]
    },
    {
      "cell_type": "code",
      "execution_count": 54,
      "metadata": {
        "colab": {
          "base_uri": "https://localhost:8080/",
          "height": 279
        },
        "id": "-UOcvkr62Z6p",
        "outputId": "6de040c0-8de6-4fc9-b4a3-c6b5bdc3d263"
      },
      "outputs": [
        {
          "output_type": "display_data",
          "data": {
            "image/png": "[encoded data removed]",
            "text/plain": [
              "<Figure size 432x288 with 1 Axes>"
            ]
          },
          "metadata": {
            "needs_background": "light"
          }
        }
      ],
      "source": [
        "# Выводим графики ошибки\n",
        "plt.plot(history.history['loss'], \n",
        "         label='Ошибка на обучающем наборе')\n",
        "plt.plot(history.history['val_loss'], \n",
        "         label='Ошибка на проверочном наборе')\n",
        "plt.xlabel('Эпоха обучения')\n",
        "plt.ylabel('Ошибка')\n",
        "plt.legend()\n",
        "plt.show()"
      ]
    },
    {
      "cell_type": "markdown",
      "metadata": {
        "id": "2hixPFMeSRH2"
      },
      "source": [
        "## Та же сеть с использованием Dropout-слоёв\n"
      ]
    },
    {
      "cell_type": "code",
      "execution_count": 34,
      "metadata": {
        "id": "WbmwTQpcSVxV",
        "colab": {
          "base_uri": "https://localhost:8080/"
        },
        "outputId": "08ad2b93-3de4-428e-ef5b-9de00813feb8"
      },
      "outputs": [
        {
          "output_type": "stream",
          "name": "stdout",
          "text": [
            "Epoch 1/20\n",
            "5/5 [==============================] - 68s 13s/step - loss: 0.5740 - val_loss: 0.3191\n",
            "Epoch 2/20\n",
            "5/5 [==============================] - 66s 13s/step - loss: 0.2401 - val_loss: 0.2720\n",
            "Epoch 3/20\n",
            "5/5 [==============================] - 65s 13s/step - loss: 0.1775 - val_loss: 0.2514\n",
            "Epoch 4/20\n",
            "5/5 [==============================] - 68s 13s/step - loss: 0.1587 - val_loss: 0.2288\n",
            "Epoch 5/20\n",
            "5/5 [==============================] - 64s 13s/step - loss: 0.1274 - val_loss: 0.2059\n",
            "Epoch 6/20\n",
            "5/5 [==============================] - 64s 13s/step - loss: 0.1064 - val_loss: 0.1985\n",
            "Epoch 7/20\n",
            "5/5 [==============================] - 66s 13s/step - loss: 0.0915 - val_loss: 0.1972\n",
            "Epoch 8/20\n",
            "5/5 [==============================] - 66s 13s/step - loss: 0.0821 - val_loss: 0.1971\n",
            "Epoch 9/20\n",
            "5/5 [==============================] - 68s 14s/step - loss: 0.0712 - val_loss: 0.1918\n",
            "Epoch 10/20\n",
            "5/5 [==============================] - 68s 14s/step - loss: 0.0613 - val_loss: 0.1876\n",
            "Epoch 11/20\n",
            "5/5 [==============================] - 71s 14s/step - loss: 0.0550 - val_loss: 0.1884\n",
            "Epoch 12/20\n",
            "5/5 [==============================] - 64s 13s/step - loss: 0.0544 - val_loss: 0.2010\n",
            "Epoch 13/20\n",
            "5/5 [==============================] - 68s 14s/step - loss: 0.0473 - val_loss: 0.1925\n",
            "Epoch 14/20\n",
            "5/5 [==============================] - 69s 14s/step - loss: 0.0454 - val_loss: 0.1957\n",
            "Epoch 15/20\n",
            "5/5 [==============================] - 67s 13s/step - loss: 0.0421 - val_loss: 0.1931\n",
            "Epoch 16/20\n",
            "5/5 [==============================] - 69s 14s/step - loss: 0.0405 - val_loss: 0.1951\n",
            "Epoch 17/20\n",
            "5/5 [==============================] - 69s 14s/step - loss: 0.0412 - val_loss: 0.1935\n",
            "Epoch 18/20\n",
            "5/5 [==============================] - 66s 13s/step - loss: 0.0386 - val_loss: 0.1930\n",
            "Epoch 19/20\n",
            "5/5 [==============================] - 66s 13s/step - loss: 0.0380 - val_loss: 0.1922\n",
            "Epoch 20/20\n",
            "5/5 [==============================] - 71s 14s/step - loss: 0.0386 - val_loss: 0.1924\n"
          ]
        }
      ],
      "source": [
        "# Создаём сеть\n",
        "model_ula = Sequential()\n",
        "model_ula.add(Dense(3300, input_dim=3208, activation = 'relu', input_shape = x_train.shape[1:]))\n",
        "model_ula.add(Dropout(0.3))\n",
        "model_ula.add(Dense(1600, activation = 'relu'))\n",
        "model_ula.add(Dropout(0.3))\n",
        "model_ula.add(Dense(1, activation = 'linear'))\n",
        "model_ula.compile(optimizer = 'adam', loss = 'mse')\n",
        "\n",
        "history2 = model_ula.fit(x_train, y_train_scaled, epochs = 20, batch_size = 10000, validation_split = 0.2, verbose=1)"
      ]
    },
    {
      "cell_type": "code",
      "execution_count": 35,
      "metadata": {
        "colab": {
          "base_uri": "https://localhost:8080/"
        },
        "id": "48EpZ0geI3aj",
        "outputId": "26123f38-e976-497d-f738-b50aff51c2cf"
      },
      "outputs": [
        {
          "output_type": "stream",
          "name": "stdout",
          "text": [
            "Model: \"sequential_1\"\n",
            "_________________________________________________________________\n",
            " Layer (type)                Output Shape              Param #   \n",
            "=================================================================\n",
            " dense_3 (Dense)             (None, 3300)              10589700  \n",
            "                                                                 \n",
            " dropout (Dropout)           (None, 3300)              0         \n",
            "                                                                 \n",
            " dense_4 (Dense)             (None, 1600)              5281600   \n",
            "                                                                 \n",
            " dropout_1 (Dropout)         (None, 1600)              0         \n",
            "                                                                 \n",
            " dense_5 (Dense)             (None, 1)                 1601      \n",
            "                                                                 \n",
            "=================================================================\n",
            "Total params: 15,872,901\n",
            "Trainable params: 15,872,901\n",
            "Non-trainable params: 0\n",
            "_________________________________________________________________\n"
          ]
        }
      ],
      "source": [
        "model_ula.summary()"
      ]
    },
    {
      "cell_type": "code",
      "source": [
        "# Вычисляем результаты сети на тестовом наборе\n",
        "scores = model_ula.evaluate(x_test, y_test_scaled, verbose=1)\n",
        "\n",
        "# scores - loss сети на тестовой выборке\n",
        "print(scores)\n",
        "print(\"Средняя ошибка на тестовых данных:\", round(scores, 4))\n",
        "print('Средний процент ошибки на проверочной выборки:', round(100*np.average(val_loss), 1), '%')"
      ],
      "metadata": {
        "colab": {
          "base_uri": "https://localhost:8080/"
        },
        "id": "C1glK47TSpRF",
        "outputId": "c82bac96-3f56-4b00-8b0b-31b8dcbce639"
      },
      "execution_count": 40,
      "outputs": [
        {
          "output_type": "stream",
          "name": "stdout",
          "text": [
            "439/439 [==============================] - 18s 41ms/step - loss: 0.0762\n",
            "0.0761810690164566\n",
            "Средняя ошибка на тестовых данных: 0.0762\n",
            "Средний процент ошибки на проверочной выборки: 24.1 %\n"
          ]
        }
      ]
    },
    {
      "cell_type": "code",
      "source": [
        "predict = model_ula.predict(x_test)\n",
        "predict_inverse = y_scaler.inverse_transform(predict).flatten()\n",
        "print('Среднее значение цены:', np.average(predict_inverse))"
      ],
      "metadata": {
        "colab": {
          "base_uri": "https://localhost:8080/"
        },
        "id": "UcvG4w8HZUCn",
        "outputId": "fbed031b-1391-4654-dc39-ba513a38cff5"
      },
      "execution_count": 37,
      "outputs": [
        {
          "output_type": "stream",
          "name": "stdout",
          "text": [
            "Среднее значение цены: 522335.38\n"
          ]
        }
      ]
    },
    {
      "cell_type": "code",
      "execution_count": 38,
      "metadata": {
        "colab": {
          "base_uri": "https://localhost:8080/",
          "height": 283
        },
        "id": "8IlNhx3Pik4W",
        "outputId": "1c06b1f2-b631-4a80-a0da-436fd62d84ce"
      },
      "outputs": [
        {
          "output_type": "display_data",
          "data": {
            "image/png": "[encoded data removed]",
            "text/plain": [
              "<Figure size 432x288 with 1 Axes>"
            ]
          },
          "metadata": {
            "needs_background": "light"
          }
        }
      ],
      "source": [
        "# Выводим графики ошибки\n",
        "plt.plot(history2.history['loss'], \n",
        "         label='Ошибка на обучающем наборе')\n",
        "plt.plot(history2.history['val_loss'], \n",
        "         label='Ошибка на проверочном наборе')\n",
        "plt.xlabel('Эпоха обучения')\n",
        "plt.ylabel('Ошибка')\n",
        "plt.legend()\n",
        "plt.show()"
      ]
    }
  ],
  "metadata": {
    "colab": {
      "collapsed_sections": [
        "BVAhutY8GimR",
        "P-rteo1XG5Qr"
      ],
      "name": "Модель предсказания цены машины",
      "provenance": [],
      "authorship_tag": "ABX9TyM3NZ7n6eDKk3qHwMoqwRqY",
      "include_colab_link": true
    },
    "kernelspec": {
      "display_name": "Python 3",
      "name": "python3"
    },
    "language_info": {
      "name": "python"
    }
  },
  "nbformat": 4,
  "nbformat_minor": 0
}